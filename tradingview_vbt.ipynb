{
 "cells": [
  {
   "cell_type": "code",
   "execution_count": 1,
   "metadata": {},
   "outputs": [],
   "source": [
    "from numpy import sort\n",
    "import vectorbt as vbt\n",
    "import pandas as pd \n",
    "import datetime, pytz\n",
    "from datetime import datetime, timedelta"
   ]
  },
  {
   "cell_type": "markdown",
   "metadata": {},
   "source": [
    "# Read In Data"
   ]
  },
  {
   "cell_type": "code",
   "execution_count": 2,
   "metadata": {},
   "outputs": [],
   "source": [
    "# Enter your parameters here\n",
    "\n",
    "start_date = datetime(2018, 1, 1, tzinfo=pytz.utc)  # time period for analysis, must be timezone-aware\n",
    "# end_date = datetime.now(pytz.utc)\n",
    "# end_date = datetime(2020, 1, 1, tzinfo=pytz.utc)\n",
    "# The following is the number of days to look back for the analysis\n",
    "# time_buffer = timedelta(days=100)  # buffer before to pre-calculate SMA/EMA, best to set to max window\n",
    "\n",
    "\n",
    "vbt.settings.portfolio['init_cash'] = 100_000.  # 100,000$\n",
    "# vbt.settings.portfolio['fees'] = 0.0025  # 0.25% # These may already be incorporated into trade file \n",
    "# vbt.settings.portfolio['commission'] = 0.0025  # 0.25% May want to use this later"
   ]
  },
  {
   "cell_type": "markdown",
   "metadata": {},
   "source": [
    "# Read in the Trade File from Tradingview Strategy"
   ]
  },
  {
   "cell_type": "code",
   "execution_count": 6,
   "metadata": {},
   "outputs": [
    {
     "name": "stdout",
     "output_type": "stream",
     "text": [
      "      Trade #         Type Signal         Date/Time    Price  Contracts  \\\n",
      "0           1  Entry Short  ParSE  2018-01-01 16:00   748.27    80.1282   \n",
      "1           1   Exit Short  ParLE  2018-01-01 20:00   761.69    80.1282   \n",
      "2           2   Entry Long  ParLE  2018-01-01 20:00   761.69    78.8924   \n",
      "3           2    Exit Long    tpL  2018-01-02 00:00   799.65    78.8924   \n",
      "4           3   Entry Long  ParLE  2018-01-26 18:00  1061.31    57.5914   \n",
      "...       ...          ...    ...               ...      ...        ...   \n",
      "1255      628    Exit Long    tpL  2022-01-31 16:00  2686.34   645.9219   \n",
      "1256      629  Entry Short  ParSE  2022-02-02 16:00  2663.90   328.7534   \n",
      "1257      629   Exit Short  ParLE  2022-02-03 20:00  2665.52   328.7534   \n",
      "1258      630   Entry Long  ParLE  2022-02-03 20:00  2665.52   333.3828   \n",
      "1259      630    Exit Long    tpL  2022-02-04 06:00  2798.52   333.3828   \n",
      "\n",
      "      Profit NONE  Profit %  Cum. Profit NONE  Cum. Profit %  Run-up NONE  \\\n",
      "0        -1099.52     -1.83          -1099.52          -1.10      1211.57   \n",
      "1        -1099.52     -1.83          -1099.52          -1.10      1211.57   \n",
      "2         2970.12      4.94           1870.60           3.00      2982.74   \n",
      "3         2970.12      4.94           1870.60           3.00      2982.74   \n",
      "4         3031.32      4.96           4901.92           2.98      3044.15   \n",
      "...           ...       ...               ...            ...          ...   \n",
      "1255     81955.25      4.96        1359610.40           5.95     82302.28   \n",
      "1256      -882.99     -0.10        1358727.40          -0.06     28705.83   \n",
      "1257      -882.99     -0.10        1358727.40          -0.06     28705.83   \n",
      "1258     43975.59      4.95        1402703.00           3.01     44162.18   \n",
      "1259     43975.59      4.95        1402703.00           3.01     44162.18   \n",
      "\n",
      "      Run-up %  Drawdown NONE  Drawdown %  \n",
      "0         2.02        1087.31        1.81  \n",
      "1         2.02        1087.31        1.81  \n",
      "2         4.96        1008.43        1.68  \n",
      "3         4.96        1008.43        1.68  \n",
      "4         4.98        1700.23        2.78  \n",
      "...        ...            ...         ...  \n",
      "1255      4.98        4225.42        0.26  \n",
      "1256      3.28       23549.52        2.69  \n",
      "1257      3.28       23549.52        2.69  \n",
      "1258      4.97        7582.16        0.85  \n",
      "1259      4.97        7582.16        0.85  \n",
      "\n",
      "[1260 rows x 14 columns]\n"
     ]
    }
   ],
   "source": [
    "# Download trade file from tradingview strategy as csv\n",
    "trade_file = \"./data/Dynamic_Wavebased_1.0_Strategy_2022-02-06 (2).csv\" \n",
    "df_trades = pd.read_csv(trade_file)\n",
    "\n",
    "print(df_trades)"
   ]
  },
  {
   "cell_type": "markdown",
   "metadata": {},
   "source": [
    "Working on Finding out about leverage\n"
   ]
  },
  {
   "cell_type": "code",
   "execution_count": null,
   "metadata": {},
   "outputs": [],
   "source": [
    "\n",
    "# print(df_trades)\n",
    "print(df_trades.columns)\n",
    "\n",
    "subset = df_trades[[\"Type\", \"Price\", \"Contracts\", \"Cum. Profit NONE\", \"Profit %\"]]\n",
    "# print(df_trades)\n",
    "only_entry = subset[subset[\"Type\"].str.contains(\"Entry\")]\n",
    "\n",
    "only_entry[\"total_value\"] = only_entry[\"Cum. Profit NONE\"] + 100000\n",
    "only_entry[\"payment\"] = only_entry[\"Price\"] * only_entry[\"Contracts\"]\n",
    "only_entry[\"leverage\"] = only_entry[\"payment\"]/only_entry[\"total_value\"]\n",
    "only_entry[\"total_value\"] = only_entry[\"total_value\"].shift(1)\n",
    "\n",
    "# == \"Entry Long\" | subset[\"Type\"] == \"Entry Short\"]\n",
    "# only_entry\n",
    "# pd.set_option(\"display.max_rows\", None, \"display.max_columns\", None)\n",
    "only_entry.to_csv(\"leverage_finding.csv\")\n",
    "print(only_entry)"
   ]
  },
  {
   "cell_type": "code",
   "execution_count": 7,
   "metadata": {},
   "outputs": [
    {
     "name": "stderr",
     "output_type": "stream",
     "text": [
      "2018-01-01 00:00:00+00:00 - 2022-02-11 22:00:00+00:00: : 37it [00:29,  1.25it/s]"
     ]
    },
    {
     "name": "stdout",
     "output_type": "stream",
     "text": [
      "Loaded data from file\n"
     ]
    },
    {
     "name": "stderr",
     "output_type": "stream",
     "text": [
      "\n"
     ]
    }
   ],
   "source": [
    "# get binance data doing it this way allows for you to update your data rather than re-downloading it\n",
    "symbol = \"ETHUSDT\"\n",
    "freq = '2h' # My strategy was based on 2hour candles for ETHUSDT\n",
    "binance_data = vbt.BinanceData.download(symbol, start=start_date, end=\"now UTC\", interval=freq, show_progress=True) \n",
    "try: \n",
    "    binance_data.load(\"./data/BINANCE_ETHUSDT_2h.pickle\")\n",
    "    print(\"Loaded data from file\")\n",
    "except: \n",
    "    print(\"loading data from pickle failed\")\n",
    "    binance_data.get() # get data from binance first time can comment this out if you want to use the data from the csv\n",
    "    binance_data.save(\"./data/BINANCE_ETHUSDT_2h.pickle\") # save data to file this is a pickle file \n",
    "# binance_data.update() # update the data\n",
    "df_data = binance_data.data[\"ETHUSDT\"] # get the dataframe from the binance data object\n",
    "\n"
   ]
  },
  {
   "cell_type": "code",
   "execution_count": null,
   "metadata": {},
   "outputs": [],
   "source": [
    "# If you would like to update the data, you can do it here\n",
    "binance_data.update(show_progress=True)\n",
    "print(\"Updated data\")\n",
    "binance_data.save(\"./data/BINANCE_ETHUSDT_2h.pickle\")\n",
    "print(\"Saved data\")"
   ]
  },
  {
   "cell_type": "markdown",
   "metadata": {},
   "source": [
    "# Fix up the tradingview trade dataframe"
   ]
  },
  {
   "cell_type": "code",
   "execution_count": 8,
   "metadata": {},
   "outputs": [
    {
     "name": "stdout",
     "output_type": "stream",
     "text": [
      "                     Trade #         Type Signal    Price  Contracts  \\\n",
      "Date/Time                                                              \n",
      "2018-01-01 16:00:00        1  Entry Short  ParSE   748.27    80.1282   \n",
      "2018-01-01 20:00:00        1   Exit Short  ParLE   761.69    80.1282   \n",
      "2018-01-01 20:00:00        2   Entry Long  ParLE   761.69    78.8924   \n",
      "2018-01-02 00:00:00        2    Exit Long    tpL   799.65    78.8924   \n",
      "2018-01-26 18:00:00        3   Entry Long  ParLE  1061.31    57.5914   \n",
      "...                      ...          ...    ...      ...        ...   \n",
      "2022-01-31 16:00:00      628    Exit Long    tpL  2686.34   645.9219   \n",
      "2022-02-02 16:00:00      629  Entry Short  ParSE  2663.90   328.7534   \n",
      "2022-02-03 20:00:00      629   Exit Short  ParLE  2665.52   328.7534   \n",
      "2022-02-03 20:00:00      630   Entry Long  ParLE  2665.52   333.3828   \n",
      "2022-02-04 06:00:00      630    Exit Long    tpL  2798.52   333.3828   \n",
      "\n",
      "                     Profit NONE  Profit %  Cum. Profit NONE  Cum. Profit %  \\\n",
      "Date/Time                                                                     \n",
      "2018-01-01 16:00:00     -1099.52     -1.83          -1099.52          -1.10   \n",
      "2018-01-01 20:00:00     -1099.52     -1.83          -1099.52          -1.10   \n",
      "2018-01-01 20:00:00      2970.12      4.94           1870.60           3.00   \n",
      "2018-01-02 00:00:00      2970.12      4.94           1870.60           3.00   \n",
      "2018-01-26 18:00:00      3031.32      4.96           4901.92           2.98   \n",
      "...                          ...       ...               ...            ...   \n",
      "2022-01-31 16:00:00     81955.25      4.96        1359610.40           5.95   \n",
      "2022-02-02 16:00:00      -882.99     -0.10        1358727.40          -0.06   \n",
      "2022-02-03 20:00:00      -882.99     -0.10        1358727.40          -0.06   \n",
      "2022-02-03 20:00:00     43975.59      4.95        1402703.00           3.01   \n",
      "2022-02-04 06:00:00     43975.59      4.95        1402703.00           3.01   \n",
      "\n",
      "                     Run-up NONE  Run-up %  Drawdown NONE  Drawdown %  \n",
      "Date/Time                                                              \n",
      "2018-01-01 16:00:00      1211.57      2.02        1087.31        1.81  \n",
      "2018-01-01 20:00:00      1211.57      2.02        1087.31        1.81  \n",
      "2018-01-01 20:00:00      2982.74      4.96        1008.43        1.68  \n",
      "2018-01-02 00:00:00      2982.74      4.96        1008.43        1.68  \n",
      "2018-01-26 18:00:00      3044.15      4.98        1700.23        2.78  \n",
      "...                          ...       ...            ...         ...  \n",
      "2022-01-31 16:00:00     82302.28      4.98        4225.42        0.26  \n",
      "2022-02-02 16:00:00     28705.83      3.28       23549.52        2.69  \n",
      "2022-02-03 20:00:00     28705.83      3.28       23549.52        2.69  \n",
      "2022-02-03 20:00:00     44162.18      4.97        7582.16        0.85  \n",
      "2022-02-04 06:00:00     44162.18      4.97        7582.16        0.85  \n",
      "\n",
      "[1260 rows x 13 columns]\n"
     ]
    }
   ],
   "source": [
    "df_data.index = df_data.index.tz_convert(None) # convert the index to tz-naive\n",
    "# The following only needs to be done once after reading the trades in from tradingview\n",
    "df_trades = df_trades.set_index('Date/Time')\n",
    "df_trades.index = pd.to_datetime(df_trades.index)\n",
    "\n",
    "# print(df_data)\n",
    "print(df_trades)\n"
   ]
  },
  {
   "cell_type": "code",
   "execution_count": 10,
   "metadata": {},
   "outputs": [
    {
     "name": "stdout",
     "output_type": "stream",
     "text": [
      "                       Close  Price Type  Contracts\n",
      "2018-01-01 00:00:00   717.97    NaN  NaN        NaN\n",
      "2018-01-01 02:00:00   734.50    NaN  NaN        NaN\n",
      "2018-01-01 04:00:00   748.99    NaN  NaN        NaN\n",
      "2018-01-01 06:00:00   751.99    NaN  NaN        NaN\n",
      "2018-01-01 08:00:00   753.21    NaN  NaN        NaN\n",
      "...                      ...    ...  ...        ...\n",
      "2022-02-11 14:00:00  3102.93    NaN  NaN        NaN\n",
      "2022-02-11 16:00:00  3074.83    NaN  NaN        NaN\n",
      "2022-02-11 18:00:00  2992.89    NaN  NaN        NaN\n",
      "2022-02-11 20:00:00  2926.34    NaN  NaN        NaN\n",
      "2022-02-11 22:00:00  2927.12    NaN  NaN        NaN\n",
      "\n",
      "[19247 rows x 4 columns]\n"
     ]
    }
   ],
   "source": [
    "# combine data and trades \n",
    "\n",
    "df_combined  = pd.concat([df_data, df_trades]).sort_index()\n",
    "\n",
    "df_combined = df_combined[[\"Close\",\"Price\",\"Type\",\"Contracts\"]]\n",
    "print(df_combined)\n",
    "\n",
    "# idx = df_combined.index\n",
    "\n",
    "\n",
    "# for i in idx:\n",
    "#     try:\n",
    "#         print(len(df_combined[\"Type\"][i]))\n",
    "#     except:\n",
    "#         none = 0\n"
   ]
  },
  {
   "cell_type": "code",
   "execution_count": 12,
   "metadata": {},
   "outputs": [],
   "source": [
    "# This creates the boolean for the signals\n",
    "df_combined[\"entries\"] = df_combined[\"Type\"] == \"Entry Long\"\n",
    "df_combined[\"exits\"] = df_combined[\"Type\"] == \"Exit Long\"\n",
    "df_combined[\"size\"] = df_combined[\"Contracts\"]\n",
    "df_combined[\"short_entries\"] = df_combined[\"Type\"] == \"Entry Short\"\n",
    "df_combined[\"short_exits\"] = df_combined[\"Type\"] == \"Exit Short\"\n",
    "# df_combined[\"Close\"].to_list()"
   ]
  },
  {
   "cell_type": "code",
   "execution_count": null,
   "metadata": {},
   "outputs": [],
   "source": [
    "\n",
    "#mapping out one of the sequences of the messed up trades \n",
    "#first time stamp is 2018-01-01: 14\n",
    "\n",
    "vbt.Portfolio.from_signals([748.80, 737.02, 746.23, 759.28, 754.99], \n",
    "                            entries = [False, False, False, True, False], \n",
    "                            exits = [False, False, False, False, False], \n",
    "                            size = [1, 1, 1, 3, 1],\n",
    "                            short_entries=[False, True, False, False, False],\n",
    "                            short_exits=[False, False, False, True, False],\n",
    "                            # price = [0, 748.27, ]\n",
    "                            direction='both').positions.records_readable\n",
    "\n",
    "\n",
    "# portfolio = vbt.Portfolio.from_signals(df_combined[\"Close\"], \n",
    "#                                         entries=df_combined[\"entries\"].to_list(), \n",
    "#                                         exits=df_combined[\"exits\"].to_list(), \n",
    "#                                         size=df_combined[\"size\"].to_list(),\n",
    "#                                         short_entries=df_combined[\"short_entries\"].to_list(), \n",
    "#                                         short_exits=df_combined[\"short_exits\"].to_list(), \n",
    "#                                         price=df_combined['Price'].to_list(),\n",
    "#                                         )"
   ]
  },
  {
   "cell_type": "code",
   "execution_count": null,
   "metadata": {},
   "outputs": [],
   "source": [
    "df_combined[\"2018-01-01\"]"
   ]
  },
  {
   "cell_type": "markdown",
   "metadata": {},
   "source": [
    "# @cyrus you might want to look into the \"Close\" column showing NaN values when there is a trade.\n",
    "My hunch it has to do with the way you concatenated the two dataframes above Note there will be three of the same timestamp because there might be an entry and an exit, plus the original closing price dataframe. \n",
    "\n",
    "Also, it looks like we might want to pull in the \"open\" price or do as you did before where you shifted the close price by one. \n",
    "\n",
    "I see that my prices are off because the close for 14:00:00 should really be the traded price at 16:00:00 I believe. Either that or we should also pull in the `open` prices as well as the `close` so we can better portray what is really happening."
   ]
  },
  {
   "cell_type": "code",
   "execution_count": 13,
   "metadata": {},
   "outputs": [
    {
     "name": "stdout",
     "output_type": "stream",
     "text": [
      "False    18938\n",
      "True       309\n",
      "Name: entries, dtype: int64\n",
      "False    18926\n",
      "True       321\n",
      "Name: short_entries, dtype: int64\n"
     ]
    }
   ],
   "source": [
    "# Show the Long and Short signals\n",
    "print(df_combined[\"entries\"].value_counts())\n",
    "print(df_combined[\"short_entries\"].value_counts())\n"
   ]
  },
  {
   "cell_type": "code",
   "execution_count": 15,
   "metadata": {},
   "outputs": [],
   "source": [
    "# Create the portfolio object\n",
    "\n",
    "portfolio = vbt.Portfolio.from_signals(df_combined[\"Close\"], \n",
    "                                        entries=df_combined[\"entries\"].to_list(), \n",
    "                                        exits=df_combined[\"exits\"].to_list(), \n",
    "                                        size=df_combined[\"size\"].to_list(),\n",
    "                                        short_entries=df_combined[\"short_entries\"].to_list(), \n",
    "                                        short_exits=df_combined[\"short_exits\"].to_list(), \n",
    "                                        price=df_combined['Price'].to_list(),\n",
    "                                        )"
   ]
  },
  {
   "cell_type": "markdown",
   "metadata": {},
   "source": [
    "# Making vectorbt records into tradingview format so we can see if they are equal or whats going on"
   ]
  },
  {
   "cell_type": "code",
   "execution_count": 88,
   "metadata": {},
   "outputs": [
    {
     "name": "stdout",
     "output_type": "stream",
     "text": [
      "                            Type    Price  Contracts\n",
      "Date/Time                                           \n",
      "2018-01-01 16:00:00  Entry Short   748.27    80.1282\n",
      "2018-01-01 20:00:00   Exit Short   761.69    80.1282\n",
      "2018-01-01 20:00:00   Entry Long   761.69    78.8924\n",
      "2018-01-02 00:00:00    Exit Long   799.65    78.8924\n",
      "2018-01-26 18:00:00   Entry Long  1061.31    57.5914\n",
      "...                          ...      ...        ...\n",
      "2022-01-31 16:00:00    Exit Long  2686.34   645.9219\n",
      "2022-02-02 16:00:00  Entry Short  2663.90   328.7534\n",
      "2022-02-03 20:00:00   Exit Short  2665.52   328.7534\n",
      "2022-02-03 20:00:00   Entry Long  2665.52   333.3828\n",
      "2022-02-04 06:00:00    Exit Long  2798.52   333.3828\n",
      "\n",
      "[1260 rows x 3 columns]\n",
      "                          vbType  vbPrice  vbContracts\n",
      "Date/Time                                             \n",
      "2018-01-01 16:00:00  Entry Short   748.27    80.128200\n",
      "2018-01-01 20:00:00   Exit Short   761.69    80.128200\n",
      "2018-01-01 20:00:00   Entry Long   761.69    78.892400\n",
      "2018-01-02 00:00:00    Exit Long   799.65    78.892400\n",
      "2018-01-26 18:00:00   Entry Long  1061.31    57.591400\n",
      "...                          ...      ...          ...\n",
      "2022-01-31 16:00:00    Exit Long  2686.34   426.882164\n",
      "2022-02-02 16:00:00  Entry Short  2663.90   328.753400\n",
      "2022-02-03 20:00:00   Exit Short  2665.52   328.753400\n",
      "2022-02-03 20:00:00   Entry Long  2665.52   333.382800\n",
      "2022-02-04 06:00:00    Exit Long  2798.52   333.382800\n",
      "\n",
      "[1254 rows x 3 columns]\n"
     ]
    }
   ],
   "source": [
    "# Show the positions and trades in a readable format\n",
    "records = portfolio.positions.records_readable\n",
    "\n",
    "records = records[[\"Avg Entry Price\", \"Entry Timestamp\", \"Size\", \"Exit Timestamp\", \"Avg Exit Price\", \"Direction\"]]\n",
    "trade_sub = df_trades[[\"Type\", \"Price\", \"Contracts\"]]\n",
    "\n",
    "entries = records[[\"Avg Entry Price\", \"Entry Timestamp\", \"Size\", \"Direction\"]]\n",
    "exits = records[[\"Avg Exit Price\", \"Exit Timestamp\", \"Size\", \"Direction\"]]\n",
    "\n",
    "exits = exits.set_index(\"Exit Timestamp\")\n",
    "entries = entries.set_index(\"Entry Timestamp\")\n",
    "\n",
    "second = timedelta(seconds=1)\n",
    "\n",
    "entries.index = entries.index + second\n",
    "exits[\"Direction\"] = \"Exit \" + exits[\"Direction\"] \n",
    "entries[\"Direction\"] = \"Entry \" + entries[\"Direction\"] \n",
    "\n",
    "entries.columns = [\"vbPrice\", \"vbContracts\", \"vbType\"]\n",
    "exits.columns = [\"vbPrice\", \"vbContracts\", \"vbType\"]\n",
    "\n",
    "vbt_format  = pd.concat([entries, exits]).sort_index()\n",
    "\n",
    "vbt_format = vbt_format[[\"vbType\", \"vbPrice\", \"vbContracts\"]]\n",
    "\n",
    "vbt_format.index = vbt_format.index.round(\"H\")\n",
    "vbt_format.index = vbt_format.index.rename(\"Date/Time\")\n",
    "# vbt_format.index = vbt_format.index - timedelta(seconds=1) if vbt_format.index.seconds == 1\n",
    "# vbt_format = vbt_format.reset_index()\n",
    "# vbt_format.columns = [\"time\", \"Type\", \"Price\", \"Contracts\"]\n",
    "\n",
    "\n",
    "# vbt_format.loc[vbt_format.time.minutes == 1, \"time\"] = vbt_format.time - second\n",
    "# duplicates = pd.concat([trade_sub,vbt_format]).drop_duplicates(subset = ['Price'], keep=False)\n",
    "# print(duplicates)\n",
    "# trade_sub[\"Diff?\"] = trade_sub[\"Type\"] == vbt_format[\"Type\"]\n",
    "# print(mix)\n",
    "# for i in trade_sub.index:\n",
    "#     print(trade_sub[\"Type\"][i] == vbt_format[\"Type\"][i])\n",
    "print(trade_sub)\n",
    "print(vbt_format)\n"
   ]
  },
  {
   "cell_type": "code",
   "execution_count": 17,
   "metadata": {},
   "outputs": [
    {
     "data": {
      "text/plain": [
       "Index(['Position Id', 'Column', 'Size', 'Entry Timestamp', 'Avg Entry Price',\n",
       "       'Entry Fees', 'Exit Timestamp', 'Avg Exit Price', 'Exit Fees', 'PnL',\n",
       "       'Return', 'Direction', 'Status'],\n",
       "      dtype='object')"
      ]
     },
     "execution_count": 17,
     "metadata": {},
     "output_type": "execute_result"
    }
   ],
   "source": [
    "portfolio.positions.records_readable.columns"
   ]
  },
  {
   "cell_type": "code",
   "execution_count": 18,
   "metadata": {},
   "outputs": [
    {
     "name": "stdout",
     "output_type": "stream",
     "text": [
      "VectorBT thinks the portfolio has the following long and short signals: \n",
      "Short    318\n",
      "Long     309\n",
      "Name: Direction, dtype: int64\n",
      "The Input Dataframe had the following information: \n",
      "The Long signals are:\n",
      "False    18938\n",
      "True       309\n",
      "Name: entries, dtype: int64\n",
      "The Short signals are:\n",
      "False    18926\n",
      "True       321\n",
      "Name: short_entries, dtype: int64\n",
      "The original trades from the tradingview file are:\n",
      "Entry Short    321\n",
      "Exit Short     321\n",
      "Entry Long     309\n",
      "Exit Long      309\n",
      "Name: Type, dtype: int64\n"
     ]
    }
   ],
   "source": [
    "# Show the Long and Short signals to the portfolio \n",
    "print(\"VectorBT thinks the portfolio has the following long and short signals: \")\n",
    "print(portfolio.positions.records_readable[\"Direction\"].value_counts()) # Check the vectorbt portfolio trades \n",
    "\n",
    "print(\"The Input Dataframe had the following information: \")\n",
    "print(\"The Long signals are:\")\n",
    "print(df_combined[\"entries\"].value_counts())\n",
    "\n",
    "print(\"The Short signals are:\")\n",
    "print(df_combined[\"short_entries\"].value_counts())\n",
    "\n",
    "print(\"The original trades from the tradingview file are:\")\n",
    "print(df_trades[\"Type\"].value_counts())"
   ]
  },
  {
   "cell_type": "markdown",
   "metadata": {},
   "source": [
    "# @cyrus please look into this\n",
    "It looks like we are missing 2 of our short trades. The original trade file had 321 short entries and short exits. Our VectorBT strategy thinks we only had 319 short entries. "
   ]
  },
  {
   "cell_type": "markdown",
   "metadata": {},
   "source": [
    "# Let's look at the results from VectorBT"
   ]
  },
  {
   "cell_type": "code",
   "execution_count": null,
   "metadata": {},
   "outputs": [],
   "source": [
    "# Show the portfolio statistics and compare the returns of the banchmark\n",
    "bm_rets = df_combined[\"Close\"].vbt.to_returns() # create returns dataframe for the benchmark\n",
    "portfolio.stats(settings=dict(benchmark_returns=bm_rets, # Sets the benchmark returns for stats comparisons\n",
    "                              frequency='2H', # Sets the frequency for stats comparisons\n",
    "                              )\n",
    "                )"
   ]
  },
  {
   "cell_type": "markdown",
   "metadata": {},
   "source": [
    "# @cyrus, check out the \"max gross exposure\" that seems like a lot of leverage\n",
    "See if you can try to make sense of it all. You might need to ask for @joe's help with a spreadsheet as you try to do some forensic understanding about what is happening. "
   ]
  },
  {
   "cell_type": "code",
   "execution_count": null,
   "metadata": {},
   "outputs": [],
   "source": [
    "print(portfolio.stats(settings=dict(benchmark_returns=bm_rets, # Sets the benchmark returns for stats comparisons\n",
    "                              frequency='2H', # Sets the frequency for stats comparisons\n",
    "                              )\n",
    "                )\n",
    "      )\n",
    "portfolio.plot().show()"
   ]
  },
  {
   "cell_type": "code",
   "execution_count": null,
   "metadata": {},
   "outputs": [],
   "source": []
  }
 ],
 "metadata": {
  "interpreter": {
   "hash": "dfcb27ac0dfa1d42a5d66699e238b2e915c89cb31d4d5418f0bf811994643095"
  },
  "kernelspec": {
   "display_name": "Python 3.8.12 64-bit ('data-science': conda)",
   "language": "python",
   "name": "python3"
  },
  "language_info": {
   "codemirror_mode": {
    "name": "ipython",
    "version": 3
   },
   "file_extension": ".py",
   "mimetype": "text/x-python",
   "name": "python",
   "nbconvert_exporter": "python",
   "pygments_lexer": "ipython3",
   "version": "3.9.7"
  },
  "orig_nbformat": 4
 },
 "nbformat": 4,
 "nbformat_minor": 2
}
